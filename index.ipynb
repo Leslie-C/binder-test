{
 "cells": [
  {
   "cell_type": "markdown",
   "metadata": {},
   "source": [
    "Testing DESeq2"
   ]
  },
  {
   "cell_type": "code",
   "execution_count": null,
   "metadata": {
    "vscode": {
     "languageId": "r"
    }
   },
   "outputs": [],
   "source": [
    "library(DESeq2)"
   ]
  },
  {
   "cell_type": "code",
   "execution_count": null,
   "metadata": {
    "vscode": {
     "languageId": "r"
    }
   },
   "outputs": [],
   "source": [
    "# create sampleTable\n",
    "directory <- \"./data/\"\n",
    "sampleFiles <- grep(\"mouse\",list.files(directory),value=TRUE)\n",
    "sampleCondition1 <- sub(\"mouse\",\"\\\\1\",sampleFiles)\n",
    "sampleCondition <- sub(\"\\\\d.*\",\"\\\\1\",sampleCondition1)\n",
    "type <- sub(\"\\\\w+\\\\d.\",\"\\\\1\",sampleCondition1)\n",
    "type <- sub(\"*.genecount\",\"\\\\1\",type)\n",
    "sampleTable <- data.frame(sampleName=sub(\"*.\\\\w+_\\\\w+.genecount\",\"\\\\1\",sampleCondition1),\n",
    "                          fileName=sampleFiles,\n",
    "                          condition=sampleCondition)"
   ]
  },
  {
   "cell_type": "code",
   "execution_count": null,
   "metadata": {
    "vscode": {
     "languageId": "r"
    }
   },
   "outputs": [],
   "source": [
    "ddsHTSeq <- DESeqDataSetFromHTSeqCount(sampleTable=sampleTable,\n",
    "                                       directory=directory,\n",
    "                                       design=~ condition)"
   ]
  },
  {
   "cell_type": "code",
   "execution_count": null,
   "metadata": {
    "vscode": {
     "languageId": "r"
    }
   },
   "outputs": [],
   "source": [
    "#xxx"
   ]
  },
  {
   "cell_type": "code",
   "execution_count": null,
   "metadata": {
    "vscode": {
     "languageId": "r"
    }
   },
   "outputs": [],
   "source": [
    "# Separate regressions of mpg on weight for each number of cylinders\n",
    "qplot(wt, mpg, data=mtcars, geom=c(\"point\", \"smooth\"), \n",
    "   method=\"lm\", formula=y~x, color=cyl, \n",
    "   main=\"Regression of MPG on Weight\", \n",
    "   xlab=\"Weight\", ylab=\"Miles per Gallon\")"
   ]
  },
  {
   "cell_type": "code",
   "execution_count": null,
   "metadata": {
    "vscode": {
     "languageId": "r"
    }
   },
   "outputs": [],
   "source": [
    "#xxx"
   ]
  },
  {
   "cell_type": "code",
   "execution_count": null,
   "metadata": {
    "vscode": {
     "languageId": "r"
    }
   },
   "outputs": [],
   "source": []
  }
 ],
 "metadata": {
  "kernelspec": {
   "display_name": "R",
   "language": "R",
   "name": "ir"
  },
  "language_info": {
   "codemirror_mode": "r",
   "file_extension": ".r",
   "mimetype": "text/x-r-source",
   "name": "R",
   "pygments_lexer": "r",
   "version": "3.4.2"
  }
 },
 "nbformat": 4,
 "nbformat_minor": 2
}
